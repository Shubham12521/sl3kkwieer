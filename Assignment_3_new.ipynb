{
 "cells": [
  {
   "cell_type": "code",
   "execution_count": 14,
   "id": "7f909d44",
   "metadata": {},
   "outputs": [],
   "source": [
    "import pandas as pd\n",
    "import numpy as np\n",
    "import matplotlib.pyplot as plt"
   ]
  },
  {
   "cell_type": "markdown",
   "id": "11939e32",
   "metadata": {},
   "source": [
    "# 1. Summary statistics grouped by a categorical variable"
   ]
  },
  {
   "cell_type": "code",
   "execution_count": 22,
   "id": "646e9e41",
   "metadata": {},
   "outputs": [],
   "source": [
    "# Sample data\n",
    "data = {\n",
    "    'age_group': ['Young', 'Young', 'Middle-aged', 'Middle-aged', 'Elderly', 'Elderly'],\n",
    "    'income': [30000, 40000, 50000, 60000, 70000, 80000]\n",
    "}\n",
    "df = pd.DataFrame(data)"
   ]
  },
  {
   "cell_type": "code",
   "execution_count": 24,
   "id": "068301df",
   "metadata": {},
   "outputs": [],
   "source": [
    "# Summary statistics grouped by age group\n",
    "summary_stats = df.groupby('age_group')['income'].describe()"
   ]
  },
  {
   "cell_type": "code",
   "execution_count": 25,
   "id": "bc038e38",
   "metadata": {
    "scrolled": true
   },
   "outputs": [
    {
     "name": "stdout",
     "output_type": "stream",
     "text": [
      "             count     mean          std      min      25%      50%      75%   \n",
      "age_group                                                                      \n",
      "Elderly        2.0  75000.0  7071.067812  70000.0  72500.0  75000.0  77500.0  \\\n",
      "Middle-aged    2.0  55000.0  7071.067812  50000.0  52500.0  55000.0  57500.0   \n",
      "Young          2.0  35000.0  7071.067812  30000.0  32500.0  35000.0  37500.0   \n",
      "\n",
      "                 max  \n",
      "age_group             \n",
      "Elderly      80000.0  \n",
      "Middle-aged  60000.0  \n",
      "Young        40000.0  \n"
     ]
    }
   ],
   "source": [
    "# Print summary statistics\n",
    "print(summary_stats)"
   ]
  },
  {
   "cell_type": "code",
   "execution_count": 26,
   "id": "05924fa7",
   "metadata": {},
   "outputs": [
    {
     "name": "stdout",
     "output_type": "stream",
     "text": [
      "Numeric values for each age group: [75000.0, 55000.0, 35000.0]\n"
     ]
    }
   ],
   "source": [
    "# List containing a numeric value for each response to the categorical variable\n",
    "# Assuming you want the mean for each age group\n",
    "age_group_means = df.groupby('age_group')['income'].mean().tolist()\n",
    "print(\"Numeric values for each age group:\", age_group_means)"
   ]
  },
  {
   "cell_type": "markdown",
   "id": "5e4e09eb",
   "metadata": {},
   "source": [
    "# 2. Basic statistical details for each species"
   ]
  },
  {
   "cell_type": "code",
   "execution_count": 27,
   "id": "2191fb67",
   "metadata": {},
   "outputs": [
    {
     "data": {
      "text/html": [
       "<div>\n",
       "<style scoped>\n",
       "    .dataframe tbody tr th:only-of-type {\n",
       "        vertical-align: middle;\n",
       "    }\n",
       "\n",
       "    .dataframe tbody tr th {\n",
       "        vertical-align: top;\n",
       "    }\n",
       "\n",
       "    .dataframe thead th {\n",
       "        text-align: right;\n",
       "    }\n",
       "</style>\n",
       "<table border=\"1\" class=\"dataframe\">\n",
       "  <thead>\n",
       "    <tr style=\"text-align: right;\">\n",
       "      <th></th>\n",
       "      <th>sepal_length</th>\n",
       "      <th>sepal_width</th>\n",
       "      <th>petal_length</th>\n",
       "      <th>petal_width</th>\n",
       "      <th>species</th>\n",
       "    </tr>\n",
       "  </thead>\n",
       "  <tbody>\n",
       "    <tr>\n",
       "      <th>0</th>\n",
       "      <td>5.1</td>\n",
       "      <td>3.5</td>\n",
       "      <td>1.4</td>\n",
       "      <td>0.2</td>\n",
       "      <td>Iris-setosa</td>\n",
       "    </tr>\n",
       "    <tr>\n",
       "      <th>1</th>\n",
       "      <td>4.9</td>\n",
       "      <td>3.0</td>\n",
       "      <td>1.4</td>\n",
       "      <td>0.2</td>\n",
       "      <td>Iris-setosa</td>\n",
       "    </tr>\n",
       "    <tr>\n",
       "      <th>2</th>\n",
       "      <td>4.7</td>\n",
       "      <td>3.2</td>\n",
       "      <td>1.3</td>\n",
       "      <td>0.2</td>\n",
       "      <td>Iris-setosa</td>\n",
       "    </tr>\n",
       "    <tr>\n",
       "      <th>3</th>\n",
       "      <td>4.6</td>\n",
       "      <td>3.1</td>\n",
       "      <td>1.5</td>\n",
       "      <td>0.2</td>\n",
       "      <td>Iris-setosa</td>\n",
       "    </tr>\n",
       "    <tr>\n",
       "      <th>4</th>\n",
       "      <td>5.0</td>\n",
       "      <td>3.6</td>\n",
       "      <td>1.4</td>\n",
       "      <td>0.2</td>\n",
       "      <td>Iris-setosa</td>\n",
       "    </tr>\n",
       "  </tbody>\n",
       "</table>\n",
       "</div>"
      ],
      "text/plain": [
       "   sepal_length  sepal_width  petal_length  petal_width      species\n",
       "0           5.1          3.5           1.4          0.2  Iris-setosa\n",
       "1           4.9          3.0           1.4          0.2  Iris-setosa\n",
       "2           4.7          3.2           1.3          0.2  Iris-setosa\n",
       "3           4.6          3.1           1.5          0.2  Iris-setosa\n",
       "4           5.0          3.6           1.4          0.2  Iris-setosa"
      ]
     },
     "execution_count": 27,
     "metadata": {},
     "output_type": "execute_result"
    }
   ],
   "source": [
    "# Load the iris dataset\n",
    "df2 = pd.read_csv('IRIS.csv')\n",
    "df2.head()"
   ]
  },
  {
   "cell_type": "code",
   "execution_count": 28,
   "id": "67fa854f",
   "metadata": {},
   "outputs": [],
   "source": [
    "# 2. Basic statistical details for each species\n",
    "# Assuming 'species' is the categorical variable and we want statistics for 'sepal_length'\n",
    "setosa_stats = df2[df2['species'] == 'Iris-setosa']['sepal_length'].describe()\n",
    "versicolor_stats = df2[df2['species'] == 'Iris-versicolor']['sepal_length'].describe()\n",
    "virginica_stats = df2[df2['species'] == 'Iris-virginica']['sepal_length'].describe()"
   ]
  },
  {
   "cell_type": "code",
   "execution_count": 29,
   "id": "f921756e",
   "metadata": {},
   "outputs": [
    {
     "name": "stdout",
     "output_type": "stream",
     "text": [
      "Statistics for Iris-setosa:\n",
      "count    50.00000\n",
      "mean      5.00600\n",
      "std       0.35249\n",
      "min       4.30000\n",
      "25%       4.80000\n",
      "50%       5.00000\n",
      "75%       5.20000\n",
      "max       5.80000\n",
      "Name: sepal_length, dtype: float64\n",
      "\n",
      "Statistics for Iris-versicolor:\n",
      "count    50.000000\n",
      "mean      5.936000\n",
      "std       0.516171\n",
      "min       4.900000\n",
      "25%       5.600000\n",
      "50%       5.900000\n",
      "75%       6.300000\n",
      "max       7.000000\n",
      "Name: sepal_length, dtype: float64\n",
      "\n",
      "Statistics for Iris-virginica:\n",
      "count    50.00000\n",
      "mean      6.58800\n",
      "std       0.63588\n",
      "min       4.90000\n",
      "25%       6.22500\n",
      "50%       6.50000\n",
      "75%       6.90000\n",
      "max       7.90000\n",
      "Name: sepal_length, dtype: float64\n"
     ]
    }
   ],
   "source": [
    "# Print statistics for each species\n",
    "print(\"Statistics for Iris-setosa:\")\n",
    "print(setosa_stats)\n",
    "print(\"\\nStatistics for Iris-versicolor:\")\n",
    "print(versicolor_stats)\n",
    "print(\"\\nStatistics for Iris-virginica:\")\n",
    "print(virginica_stats)"
   ]
  },
  {
   "cell_type": "code",
   "execution_count": null,
   "id": "aa99c128",
   "metadata": {},
   "outputs": [],
   "source": []
  },
  {
   "cell_type": "code",
   "execution_count": null,
   "id": "14d1dcff",
   "metadata": {},
   "outputs": [],
   "source": []
  }
 ],
 "metadata": {
  "kernelspec": {
   "display_name": "Python 3 (ipykernel)",
   "language": "python",
   "name": "python3"
  },
  "language_info": {
   "codemirror_mode": {
    "name": "ipython",
    "version": 3
   },
   "file_extension": ".py",
   "mimetype": "text/x-python",
   "name": "python",
   "nbconvert_exporter": "python",
   "pygments_lexer": "ipython3",
   "version": "3.10.8"
  }
 },
 "nbformat": 4,
 "nbformat_minor": 5
}
